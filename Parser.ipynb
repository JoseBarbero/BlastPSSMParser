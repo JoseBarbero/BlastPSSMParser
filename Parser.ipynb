{
 "cells": [
  {
   "cell_type": "code",
   "execution_count": 1,
   "metadata": {},
   "outputs": [],
   "source": [
    "import numpy as np\n",
    "import pandas as pd\n",
    "import os"
   ]
  },
  {
   "cell_type": "code",
   "execution_count": 9,
   "metadata": {},
   "outputs": [],
   "source": [
    "input_folder = 'input'\n",
    "example_file = 'seq_0.fasta.ascii_pssm'"
   ]
  },
  {
   "cell_type": "code",
   "execution_count": 15,
   "metadata": {},
   "outputs": [],
   "source": [
    "def to_dataframes(pssm_file):\n",
    "\n",
    "    file_content = open(pssm_file, 'r').readlines()\n",
    "    \n",
    "    aas_header = [\"idx\", \"AA\", *\" \".join(file_content[2][:-1].split()).split(' '), \"information per position\", \" relative weight of gapless real matches to pseudocounts\"]\n",
    "    order_dict = {}\n",
    "    for i, aa in enumerate(aas_header):\n",
    "        if aa not in order_dict.values():\n",
    "            order_dict[i] = aa\n",
    "        else:\n",
    "            order_dict[i] = aa+\"_pc\"\n",
    "\n",
    "    columns = order_dict.values()\n",
    "    pssm_matrix_df = pd.DataFrame(columns=columns)\n",
    "    \n",
    "    for line in file_content[3:]:\n",
    "\n",
    "        if line == \"\\n\":\n",
    "            break\n",
    "\n",
    "        content = \" \".join(line[:-1].split()).split(' ')\n",
    "        content_dict = {}\n",
    "        for i, value in enumerate(content):\n",
    "            content_dict[order_dict[i]] = value\n",
    "        pssm_matrix_df = pd.concat([pssm_matrix_df, pd.DataFrame([content_dict], columns=columns)])\n",
    "        \n",
    "    return pssm_matrix_df"
   ]
  },
  {
   "cell_type": "code",
   "execution_count": 37,
   "metadata": {},
   "outputs": [],
   "source": [
    "def to_encoding(pssm_file):\n",
    "    file_content = open(pssm_file, 'r').readlines()\n",
    "    values_list = []\n",
    "    for line in file_content[3:]:\n",
    "        if line == \"\\n\":\n",
    "            break\n",
    "        values_list.append(np.array(\" \".join(line[:-1].split()).split(' ')[2:22]))\n",
    "        \n",
    "    return np.array(values_list)"
   ]
  },
  {
   "cell_type": "code",
   "execution_count": 43,
   "metadata": {},
   "outputs": [],
   "source": [
    "def to_encoding_pd(pssm_file):\n",
    "    pssm_df = to_dataframes(pssm_file)\n",
    "    selected_columns = ['A', 'R', 'N', 'D', 'C', 'Q', 'E', 'G', 'H', 'I', 'L', 'K', 'M', 'F', 'P', 'S', 'T', 'W', 'Y', 'V']\n",
    "    # Save values from selected columns in an array\n",
    "    pssm_array = pssm_df[selected_columns].values\n",
    "    return pssm_array"
   ]
  },
  {
   "cell_type": "code",
   "execution_count": 44,
   "metadata": {},
   "outputs": [],
   "source": [
    "def folder_to_encoding(pssm_folder):\n",
    "    # For each file in pssm_folder, parse it and save it in a list\n",
    "    pssm_list = []\n",
    "    for pssm_file in os.listdir(pssm_folder):\n",
    "        pssm_array = to_encoding(os.path.join(pssm_folder, pssm_file))\n",
    "        pssm_list.append(pssm_array)\n",
    "    return np.array(pssm_list)"
   ]
  },
  {
   "cell_type": "code",
   "execution_count": 45,
   "metadata": {},
   "outputs": [
    {
     "data": {
      "text/plain": [
       "(1278, 303, 20)"
      ]
     },
     "execution_count": 45,
     "metadata": {},
     "output_type": "execute_result"
    }
   ],
   "source": [
    "folder_to_encoding(\"/home/jabarbero/MERGE/jba/data/BRCA1_HUMAN_Fields2015_y2h/blast_fastas/blast_results/pssm_results\").shape"
   ]
  }
 ],
 "metadata": {
  "kernelspec": {
   "display_name": "Python 3.8.12 ('estancia')",
   "language": "python",
   "name": "python3"
  },
  "language_info": {
   "codemirror_mode": {
    "name": "ipython",
    "version": 3
   },
   "file_extension": ".py",
   "mimetype": "text/x-python",
   "name": "python",
   "nbconvert_exporter": "python",
   "pygments_lexer": "ipython3",
   "version": "3.8.12"
  },
  "orig_nbformat": 4,
  "vscode": {
   "interpreter": {
    "hash": "4dd8084ca7b51f1ee2f800542e20867bef434e2be1cb60596c8ab40f550fde80"
   }
  }
 },
 "nbformat": 4,
 "nbformat_minor": 2
}
